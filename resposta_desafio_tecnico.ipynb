{
 "cells": [
  {
   "cell_type": "markdown",
   "id": "3b15ac9c",
   "metadata": {},
   "source": [
    "#### 1) Observe o trecho de código abaixo: <br>\n",
    "<code>\n",
    "int INDICE = 13, SOMA = 0, K = 0;\n",
    "Enquanto K < INDICE faça { K = K + 1; SOMA = SOMA + K; }\n",
    "Imprimir(SOMA);\n",
    "Ao final do processamento, qual será o valor da variável SOMA?</code>"
   ]
  },
  {
   "cell_type": "code",
   "execution_count": 1,
   "id": "98ee8b52",
   "metadata": {},
   "outputs": [
    {
     "name": "stdout",
     "output_type": "stream",
     "text": [
      "91\n"
     ]
    }
   ],
   "source": [
    "INDICE = 13\n",
    "SOMA = 0\n",
    "K = 0\n",
    "\n",
    "while K < INDICE:\n",
    "    K = K + 1\n",
    "    SOMA = SOMA + K\n",
    "\n",
    "print(SOMA)\n"
   ]
  },
  {
   "cell_type": "markdown",
   "id": "523221c7",
   "metadata": {},
   "source": [
    "#### 2) Dado a sequência de Fibonacci, onde se inicia por 0 e 1 e o próximo valor sempre será <br> a soma dos 2 valores anteriores (exemplo: 0, 1, 1, 2, 3, 5, 8, 13, 21, 34...), escreva um programa <br> na linguagem que desejar onde, informado um número, ele calcule a sequência de Fibonacci <br> e retorne uma mensagem avisando se o número informado pertence ou não a sequência."
   ]
  },
  {
   "cell_type": "code",
   "execution_count": 2,
   "id": "788b5f6a",
   "metadata": {},
   "outputs": [
    {
     "name": "stdout",
     "output_type": "stream",
     "text": [
      "O número 21 pertence à sequência de Fibonacci.\n"
     ]
    }
   ],
   "source": [
    "def is_fibonacci(n):\n",
    "    if n < 0:\n",
    "        return False\n",
    "    \n",
    "    a, b = 0, 1\n",
    "    \n",
    "    while a <= n:\n",
    "        if a == n:\n",
    "            return True\n",
    "        a, b = b, a + b\n",
    "        \n",
    "    return False\n",
    "\n",
    "numero = 21\n",
    "if is_fibonacci(numero):\n",
    "    print(f\"O número {numero} pertence à sequência de Fibonacci.\")\n",
    "else:\n",
    "    print(f\"O número {numero} não pertence à sequência de Fibonacci.\")"
   ]
  },
  {
   "cell_type": "markdown",
   "id": "ee2a2234",
   "metadata": {},
   "source": [
    "#### 3) Dado um vetor que guarda o valor de faturamento diário de uma distribuidora, faça um programa, na linguagem que desejar, que calcule e retorne:<br>\n",
    "- O menor valor de faturamento ocorrido em um dia do mês;\n",
    "- O maior valor de faturamento ocorrido em um dia do mês;\n",
    "- Número de dias no mês em que o valor de faturamento diário foi superior à média mensal.<br>\n",
    "\n",
    "<i>IMPORTANTE:<br>\n",
    "<b>a) Usar o json ou xml disponível como fonte dos dados do faturamento mensal;</b><br>\n",
    "<b>b) Podem existir dias sem faturamento, como nos finais de semana e feriados. Estes dias devem ser ignorados no cálculo da média;</b>"
   ]
  },
  {
   "cell_type": "code",
   "execution_count": 3,
   "id": "4c00be63",
   "metadata": {},
   "outputs": [
    {
     "name": "stdout",
     "output_type": "stream",
     "text": [
      "Menor valor de faturamento: 11191.47\n",
      "Maior valor de faturamento: 46251.17\n",
      "Dias com faturamento acima da média: 2\n"
     ]
    }
   ],
   "source": [
    "import json\n",
    "\n",
    "faturamento_json = \"\"\"\n",
    "[\n",
    "    {\"dia\": 1, \"valor\": 22174.1664},\n",
    "    {\"dia\": 2, \"valor\": 24537.6698},\n",
    "    {\"dia\": 3, \"valor\": 26139.6134},\n",
    "    {\"dia\": 4, \"valor\": 0.0},\n",
    "    {\"dia\": 5, \"valor\": 0.0},\n",
    "    {\"dia\": 6, \"valor\": 26742.6612},\n",
    "    {\"dia\": 7, \"valor\": 0.0},\n",
    "    {\"dia\": 8, \"valor\": 42889.2258},\n",
    "    {\"dia\": 9, \"valor\": 46251.174},\n",
    "    {\"dia\": 10, \"valor\": 11191.4722}\n",
    "]\n",
    "\"\"\"\n",
    "\n",
    "faturamento = json.loads(faturamento_json)\n",
    "\n",
    "valores = [dia[\"valor\"] for dia in faturamento if dia[\"valor\"] > 0]\n",
    "\n",
    "menor_valor = min(valores)\n",
    "maior_valor = max(valores)\n",
    "media_mensal = sum(valores) / len(valores)\n",
    "\n",
    "dias_acima_da_media = sum(1 for valor in valores if valor > media_mensal)\n",
    "\n",
    "print(f\"Menor valor de faturamento: {menor_valor:.2f}\")\n",
    "print(f\"Maior valor de faturamento: {maior_valor:.2f}\")\n",
    "print(f\"Dias com faturamento acima da média: {dias_acima_da_media}\")"
   ]
  },
  {
   "cell_type": "markdown",
   "id": "de66066f",
   "metadata": {},
   "source": [
    "#### 4) Dado o valor de faturamento mensal de uma distribuidora, detalhado por estado:\n",
    "- SP – R$67.836,43\n",
    "\n",
    "- RJ – R$36.678,66\n",
    "\n",
    "- MG – R$29.229,88\n",
    "\n",
    "- ES – R$27.165,48\n",
    "\n",
    "- Outros – R$19.849,53\n",
    "\n",
    "<b>Escreva um programa na linguagem que desejar onde calcule o percentual de representação que cada estado teve dentro do valor total mensal da distribuidora.</b>"
   ]
  },
  {
   "cell_type": "code",
   "execution_count": 4,
   "id": "4c83cb6e",
   "metadata": {},
   "outputs": [
    {
     "name": "stdout",
     "output_type": "stream",
     "text": [
      "SP: 37.53%\n",
      "RJ: 20.29%\n",
      "MG: 16.17%\n",
      "ES: 15.03%\n",
      "Outros: 10.98%\n"
     ]
    }
   ],
   "source": [
    "faturamento_estados = {\n",
    "    \"SP\": 67836.43,\n",
    "    \"RJ\": 36678.66,\n",
    "    \"MG\": 29229.88,\n",
    "    \"ES\": 27165.48,\n",
    "    \"Outros\": 19849.53\n",
    "}\n",
    "\n",
    "faturamento_total = sum(faturamento_estados.values())\n",
    "\n",
    "for estado, valor in faturamento_estados.items():\n",
    "    percentual = (valor / faturamento_total) * 100\n",
    "    print(f\"{estado}: {percentual:.2f}%\")"
   ]
  },
  {
   "cell_type": "markdown",
   "id": "3f2aaea5",
   "metadata": {},
   "source": [
    "#### 5) Escreva um programa que inverta os caracteres de um string. <br>\n",
    "\n",
    "\n",
    "\n",
    "<i>IMPORTANTE:</i>\n",
    "\n",
    "<b>a) Essa string pode ser informada através de qualquer entrada de sua preferência ou pode ser previamente definida no código;</b><br>\n",
    "<b>b) Evite usar funções prontas, como, por exemplo, reverse;</b>"
   ]
  },
  {
   "cell_type": "code",
   "execution_count": 5,
   "id": "456085ee",
   "metadata": {},
   "outputs": [
    {
     "name": "stdout",
     "output_type": "stream",
     "text": [
      "olpmexE\n"
     ]
    }
   ],
   "source": [
    "def inverte_string(s):\n",
    "    invertida = \"\"\n",
    "    for char in s:\n",
    "        invertida = char + invertida\n",
    "    return invertida\n",
    "\n",
    "# Exemplo de uso:\n",
    "string_exemplo = \"Exemplo\"\n",
    "print(inverte_string(string_exemplo))"
   ]
  }
 ],
 "metadata": {
  "kernelspec": {
   "display_name": "Python 3 (ipykernel)",
   "language": "python",
   "name": "python3"
  },
  "language_info": {
   "codemirror_mode": {
    "name": "ipython",
    "version": 3
   },
   "file_extension": ".py",
   "mimetype": "text/x-python",
   "name": "python",
   "nbconvert_exporter": "python",
   "pygments_lexer": "ipython3",
   "version": "3.9.19"
  }
 },
 "nbformat": 4,
 "nbformat_minor": 5
}
